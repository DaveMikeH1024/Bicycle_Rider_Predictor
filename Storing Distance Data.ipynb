{
 "cells": [
  {
   "cell_type": "markdown",
   "metadata": {},
   "source": [
    "<br><br><p style=\"text-align:center;font-size:2em;font-weight: bold\">Storing the Distance Data Between Addresses</p>"
   ]
  },
  {
   "cell_type": "code",
   "execution_count": null,
   "metadata": {
    "collapsed": true
   },
   "outputs": [],
   "source": [
    "# Libraries\n",
    "import numpy as np\n",
    "import pandas as pd\n",
    "import urllib\n",
    "import json "
   ]
  },
  {
   "cell_type": "code",
   "execution_count": null,
   "metadata": {
    "collapsed": true
   },
   "outputs": [],
   "source": [
    "# Loader represents the Distance Array between locations \n",
    "loader=np.load('distancearray.npy')"
   ]
  },
  {
   "cell_type": "code",
   "execution_count": null,
   "metadata": {
    "collapsed": true
   },
   "outputs": [],
   "source": [
    "# The csv file contains all of the addresses and corresponding latitude and longitude coordinates\n",
    "addressdata=pd.read_csv('Myaddrdata.csv')"
   ]
  },
  {
   "cell_type": "code",
   "execution_count": null,
   "metadata": {
    "collapsed": true
   },
   "outputs": [],
   "source": [
    "# This is the code that updates the rows and columns index of the distance array\n",
    "# Querying the Google API takes a few hundred milliseconds per query which means 506*505/2=127,765\n",
    "# Total Time: Around 10 hours\n",
    "# The code was parallelized to speed up gathering the data\n",
    "# Still occasionally the API failed to give a bike time so increments of 5 to 10 were performed\n",
    "\n",
    "for i in range(496,506): # The row indexes to update.\n",
    "    for j in range(i+1,len(addressdata)): # Only need to find (i,j) for i<j as we just \n",
    "                                          # store the (j,i) as the same value \n",
    "                                          # (This wouldn't be a good idea for a Hilly City)\n",
    "            \n",
    "        # Grab Latitude and Longitude Address Values from the Address Data\n",
    "        orig_coordlat = addressdata.loc[i][2]\n",
    "        orig_coordlon = addressdata.loc[i][3]\n",
    "        dest_coordlat = addressdata.loc[j][2]\n",
    "        dest_coordlon = addressdata.loc[j][3]\n",
    "        \n",
    "        # Code that queries the Google API and stores the bike time \n",
    "        # A Google Key is needed to run this code replacing the '...'\n",
    "        url = \"https://maps.googleapis.com/maps/api/distancematrix/json?key=...&origins={0},{1}&destinations={2},{3}&mode=bicycling&language=en-EN&sensor=false\".format(str(orig_coordlat),str(orig_coordlon),str(dest_coordlat),str(dest_coordlon))\n",
    "        json_response = urllib.request.urlopen(url)\n",
    "        result= json.loads(json_response.read())\n",
    "        bike_time = result['rows'][0]['elements'][0]['duration']['value']\n",
    "\n",
    "        # Store the bike time (We assume it's the same in both directions)\n",
    "        loader[i,j]=bike_time\n",
    "        loader[j,i]=bike_time"
   ]
  },
  {
   "cell_type": "code",
   "execution_count": null,
   "metadata": {
    "collapsed": true
   },
   "outputs": [],
   "source": [
    "# Save the Updated distance array to the hard drive\n",
    "np.save('distancearray.npy',loader)"
   ]
  },
  {
   "cell_type": "markdown",
   "metadata": {},
   "source": [
    "<br><p style=\"text-align:center;font-size:2em;font-weight: bold\">Function to get latitude and longitude from an address string</p>"
   ]
  },
  {
   "cell_type": "code",
   "execution_count": null,
   "metadata": {
    "collapsed": true
   },
   "outputs": [],
   "source": [
    "googleGeocodeUrl = 'http://maps.googleapis.com/maps/api/geocode/json?'\n",
    "\n",
    "def get_coordinates(query, from_sensor=False):\n",
    "    query = query.encode('utf-8')\n",
    "    params = {\n",
    "        'address': query,\n",
    "        'sensor': \"true\" if from_sensor else \"false\"\n",
    "    }\n",
    "    url = googleGeocodeUrl + urllib.parse.urlencode(params)\n",
    "    json_response = urllib.request.urlopen(url)\n",
    "    response = json.loads(json_response.read())\n",
    "    if response['results']:\n",
    "        location = response['results'][0]['geometry']['location']\n",
    "        latitude, longitude = location['lat'], location['lng']\n",
    "        print(query, latitude, longitude)\n",
    "    else:\n",
    "        latitude, longitude = None, None\n",
    "        print(query, \"<no results>\")\n",
    "    return latitude, longitude"
   ]
  },
  {
   "cell_type": "markdown",
   "metadata": {},
   "source": [
    "<br>\n",
    "The data sets were mined to gather all the different data strings that appeared from all the input files (there are around 500 addresses). For most address strings passing it to the above function was sufficient to get the correct latitude and longitude. Some strings however were insufficient or the google api thought the address was for somewhere else (about 40 or so addresses). These addresses were then individually edited to find proper latitude and longitude values."
   ]
  }
 ],
 "metadata": {
  "kernelspec": {
   "display_name": "Python 3",
   "language": "python",
   "name": "python3"
  },
  "language_info": {
   "codemirror_mode": {
    "name": "ipython",
    "version": 3
   },
   "file_extension": ".py",
   "mimetype": "text/x-python",
   "name": "python",
   "nbconvert_exporter": "python",
   "pygments_lexer": "ipython3",
   "version": "3.6.2"
  }
 },
 "nbformat": 4,
 "nbformat_minor": 2
}
