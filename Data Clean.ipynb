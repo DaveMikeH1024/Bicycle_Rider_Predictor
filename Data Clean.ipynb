{
 "cells": [
  {
   "cell_type": "markdown",
   "metadata": {},
   "source": [
    "<br><br><p style=\"text-align:center;font-size:2em;font-weight: bold;text-decoration: underline\">Data Clean</p>\n",
    "\n",
    "<p>This notebook serves as cleaning code for the data. \n",
    "At the end all the original csv files have the following columns:<br><br>\n",
    "[Start date, Start station, End station, Holiday, Business Day, <br>Start time, Same Location, Duration, TimetoDest, Member Type]</p>\n",
    "<p> Holiday, Business Day, and Same location (Start and End Stations are the same) are indicator variables 1 for true, 0 for false.</p>\n",
    "<p> The Duration is the duration of time the bike was used and the TimetoDest is Google's prediction for how long it takes to bike between the start and end station.</p>"
   ]
  },
  {
   "cell_type": "code",
   "execution_count": null,
   "metadata": {
    "collapsed": true
   },
   "outputs": [],
   "source": [
    "# Load in the Libraries\n",
    "import numpy as np\n",
    "import pandas as pd\n",
    "import re\n",
    "import datetime"
   ]
  },
  {
   "cell_type": "code",
   "execution_count": null,
   "metadata": {
    "collapsed": true
   },
   "outputs": [],
   "source": [
    "#### Federal Holidays ####\n",
    "DCHolidays=[ \n",
    "    datetime.date(2017, 1, 2), # New Years Holiday (in lieu)\n",
    "    datetime.date(2017, 1, 16), # MLK Day\n",
    "    datetime.date(2017, 1, 20), # Inauguration Day\n",
    "    datetime.date(2017, 2, 20), # Presidents' Day\n",
    "    datetime.date(2017, 4, 17), # Emancipation Day\n",
    "    datetime.date(2017, 5, 29), # Memorial Day\n",
    "    datetime.date(2017, 7, 4), # Independence Day\n",
    "    datetime.date(2017, 9, 4), # Labor Day\n",
    "    datetime.date(2017, 10, 9), # Columbus Day\n",
    "    datetime.date(2017, 11, 23), # Thanksgiving\n",
    "    datetime.date(2017, 12, 25), # Christmas\n",
    "    datetime.date(2016, 1, 1), # New Years\n",
    "    datetime.date(2016, 1, 18), # MLK Day\n",
    "    datetime.date(2016, 2, 15), # Presidents' Day\n",
    "    datetime.date(2016, 4, 15), # Emancipation Day\n",
    "    datetime.date(2016, 5, 30), # Memorial Day\n",
    "    datetime.date(2016, 7, 4), # Independence Day\n",
    "    datetime.date(2016, 9, 5), # Labor Day\n",
    "    datetime.date(2016, 10, 10), # Columbus Day\n",
    "    datetime.date(2016, 11, 11), # Veterans Day\n",
    "    datetime.date(2016, 11, 24), # Thanksgiving\n",
    "    datetime.date(2016, 12, 26), # Christmas (in lieu)\n",
    "    datetime.date(2015, 1, 1), # New Years\n",
    "    datetime.date(2015, 1, 19), # MLK Day\n",
    "    datetime.date(2015, 4, 16), # Emancipation Day\n",
    "    datetime.date(2015, 5, 25), # Memorial Day\n",
    "    datetime.date(2015, 7, 3), # Independence Day (observed)\n",
    "    datetime.date(2015, 9, 7), # Labor Day\n",
    "    datetime.date(2015, 10, 12), # Columbus Day\n",
    "    datetime.date(2015, 11, 11), # Veterans Day\n",
    "    datetime.date(2015, 11, 26), # Thanksgiving\n",
    "    datetime.date(2015, 12, 25), # Christmas\n",
    "    datetime.date(2014, 1, 1), # New Years \n",
    "    datetime.date(2014, 1, 20), # MLK Day\n",
    "    datetime.date(2014, 2, 17), # Presidents' Day\n",
    "    datetime.date(2014, 4, 16), # Emancipation Day\n",
    "    datetime.date(2014, 5, 26), # Memorial Day\n",
    "    datetime.date(2014, 7, 4), # Independence Day\n",
    "    datetime.date(2014, 9, 1), # Labor Day\n",
    "    datetime.date(2014, 10, 13), # Columbus Day\n",
    "    datetime.date(2014, 11, 11), # Veterans Day\n",
    "    datetime.date(2014, 11, 27), # Thanksgiving\n",
    "    datetime.date(2014, 12, 25), # Christmas\n",
    "    datetime.date(2014, 12, 26), # Christmas (Day after)\n",
    "    datetime.date(2013, 1, 1), # New Years\n",
    "    datetime.date(2013, 1, 21), # Inauguration Day, MLK\n",
    "    datetime.date(2013, 2, 18), # Presidents' Day\n",
    "    datetime.date(2013, 4, 16), # Emancipation Day\n",
    "    datetime.date(2013, 5, 27), # Memorial Day\n",
    "    datetime.date(2013, 7, 4), # Independence Day\n",
    "    datetime.date(2013, 9, 2), # Labor Day\n",
    "    datetime.date(2013, 10, 14), # Columbus Day\n",
    "    datetime.date(2013, 11, 11), # Veterans Day\n",
    "    datetime.date(2013, 11, 28), # Thanksgiving\n",
    "    datetime.date(2013, 12, 25), # Christmas\n",
    "    datetime.date(2012, 1, 2), # New Years Holiday (in lieu)\n",
    "    datetime.date(2012, 1, 16), # MLK Day\n",
    "    datetime.date(2012, 2, 20), # Presidents' Day\n",
    "    datetime.date(2012, 4, 16), # Emancipation Day\n",
    "    datetime.date(2012, 5, 28), # Memorial Day\n",
    "    datetime.date(2012, 7, 4), # Independence Day\n",
    "    datetime.date(2012, 9, 4), # Labor Day\n",
    "    datetime.date(2012, 10, 8), # Columbus Day\n",
    "    datetime.date(2012, 11, 12), # Veterans Day\n",
    "    datetime.date(2012, 11, 22), # Thanksgiving\n",
    "    datetime.date(2012, 12, 25), # Christmas\n",
    "    datetime.date(2011, 1, 17), # MLK Day\n",
    "    datetime.date(2011, 2, 21), # Presidents' Day\n",
    "    datetime.date(2011, 4, 15), # Emancipation Day\n",
    "    datetime.date(2011, 5, 30), # Memorial Day\n",
    "    datetime.date(2011, 7, 4), # Independence Day\n",
    "    datetime.date(2011, 9, 5), # Labor Day\n",
    "    datetime.date(2011, 10, 10), # Columbus Day\n",
    "    datetime.date(2011, 11, 11), # Veterans Day\n",
    "    datetime.date(2011, 11, 24), # Thanksgiving\n",
    "    datetime.date(2011, 12, 26), # Christmas (in lieu)\n",
    "    datetime.date(2010, 9, 6), # Labor Day\n",
    "    datetime.date(2010, 10, 11), # Columbus Day\n",
    "    datetime.date(2010, 11, 11), # Veterans Day\n",
    "    datetime.date(2010, 11, 25), # Thanksgiving\n",
    "    datetime.date(2010, 12, 24), # Christmas (in lieu)\n",
    "    datetime.date(2010, 12, 31) # New Years Holiday (in lieu)\n",
    "]"
   ]
  },
  {
   "cell_type": "code",
   "execution_count": null,
   "metadata": {
    "collapsed": true
   },
   "outputs": [],
   "source": [
    "# Reads in a string and converts it to seconds\n",
    "def TimetoSec(timestring):\n",
    "    result=re.split(\"\\D+\", timestring)\n",
    "    hour=int(result[0])\n",
    "    minute=int(result[1])\n",
    "    second=int(result[2])\n",
    "    return hour*3600+minute*60+second"
   ]
  },
  {
   "cell_type": "code",
   "execution_count": null,
   "metadata": {
    "collapsed": true
   },
   "outputs": [],
   "source": [
    "# Grab the address so that we can looking it up in our address data csv file\n",
    "def StripAddress(addr):\n",
    "    result=re.search('\\d\\d\\d\\d\\d',addr)\n",
    "    if(result is None):\n",
    "        return addr\n",
    "    else:\n",
    "        return addr[0:result.span()[0]-2]"
   ]
  },
  {
   "cell_type": "code",
   "execution_count": null,
   "metadata": {
    "collapsed": true
   },
   "outputs": [],
   "source": [
    "# Determines if it's a business day, I.E. a weekday and not a federal holiday\n",
    "def isBusinessDay(Date1):\n",
    "    return int((Date1 not in DCHolidays) and datetime.date.weekday(Date1)<5)"
   ]
  },
  {
   "cell_type": "code",
   "execution_count": null,
   "metadata": {
    "collapsed": true
   },
   "outputs": [],
   "source": [
    "# Finds the Station Index in the address data file\n",
    "def findIndex(station):\n",
    "    try:\n",
    "        \n",
    "        # These two locations have no address so we return 0 and later we will change the Time to Destination to 0\n",
    "        if(station=='Alta Bicycle Share Demonstration Station' or station=='Birthday Station'):\n",
    "            return 0\n",
    "        else:\n",
    "            return addressdata.index[addressdata['Address']==station][0]\n",
    "    except:\n",
    "        # If there is a station that doesn't match output it\n",
    "        print(station)"
   ]
  },
  {
   "cell_type": "code",
   "execution_count": null,
   "metadata": {
    "collapsed": true
   },
   "outputs": [],
   "source": [
    "# Some data the station name was incorrectly labelled so we convert to the true string\n",
    "def FixStation(station):\n",
    "    if(station=='Virginia Square'):\n",
    "        return 'Virginia Square Metro / N Monroe St & 9th St N'\n",
    "    elif(station=='Central Library'):\n",
    "        return 'Central Library / N Quincy St & 10th St N'\n",
    "    else:\n",
    "         return station"
   ]
  },
  {
   "cell_type": "code",
   "execution_count": null,
   "metadata": {
    "collapsed": true
   },
   "outputs": [],
   "source": [
    "# The address Data file\n",
    "addressdata=pd.read_csv('Myaddrdata.csv')"
   ]
  },
  {
   "cell_type": "code",
   "execution_count": null,
   "metadata": {
    "collapsed": true
   },
   "outputs": [],
   "source": [
    "# The Google calculated bicycle distance between points\n",
    "distancearray=np.load('distancearray.npy')"
   ]
  },
  {
   "cell_type": "code",
   "execution_count": null,
   "metadata": {
    "collapsed": true
   },
   "outputs": [],
   "source": [
    "# Change this to whichever data set you are to be cleaned (Be sure to change the IF statement below also)\n",
    "DatabaseString='HistoryData/2016-Q4-Trips-History-Data.csv'\n",
    "data=pd.read_csv(DatabaseString)\n",
    "\n",
    "# 2017 Data reverts back to the Duration column BUT now it's in miliseconds as before it was in a different format\n",
    "if(DatabaseString=='HistoryData/2017-Q1-Trips-History-Data.csv'):\n",
    "    data.rename(columns={'Duration': 'Total duration (ms)'},inplace=True)"
   ]
  },
  {
   "cell_type": "code",
   "execution_count": null,
   "metadata": {
    "collapsed": true
   },
   "outputs": [],
   "source": [
    "# The Files have different names for the data and this piece of code uniformizes each dataframe\n",
    "if('Subscription Type' in list(data)):\n",
    "    data.rename(columns={'Subscription Type': 'Member Type'},inplace=True)\n",
    "if('Subscription type' in list(data)):\n",
    "    data.rename(columns={'Subscription type': 'Member Type'},inplace=True)\n",
    "if('Member type' in list(data)):\n",
    "    data.rename(columns={'Member type': 'Member Type'},inplace=True)\n",
    "if('Subscriber Type' in list(data)):\n",
    "    data.rename(columns={'Subscriber Type': 'Member Type'},inplace=True)\n",
    "if('Bike Key' in list(data)):\n",
    "    data.rename(columns={'Bike Key': 'Member Type'},inplace=True)\n",
    "if('Type' in list(data)):\n",
    "    data.rename(columns={'Type': 'Member Type'}, inplace=True)\n",
    "if('Account type' in list(data)):\n",
    "    data.rename(columns={'Account type': 'Member Type'}, inplace=True)\n",
    "if('Start Station' in list(data)):\n",
    "    data.rename(columns={'Start Station': 'Start station'},inplace=True)\n",
    "if('End Station' in list(data)):\n",
    "    data.rename(columns={'End Station': 'End station'},inplace=True)\n",
    "if('Start time' in list(data)):\n",
    "    data.rename(columns={'Start time': 'Start date'},inplace=True)\n",
    "if('Bike number' in list(data)):\n",
    "    data.rename(columns={'Bike number': 'Bike#'},inplace=True)\n",
    "if('Bike #' in list(data)):\n",
    "    data.rename(columns={'Bike #': 'Bike#'},inplace=True)\n",
    "if('Duration (ms)' in list(data)):\n",
    "    data.rename(columns={'Duration (ms)': 'Total duration (ms)'},inplace=True)"
   ]
  },
  {
   "cell_type": "code",
   "execution_count": null,
   "metadata": {
    "collapsed": true
   },
   "outputs": [],
   "source": [
    "# Some files the data comes in hours/minutes/seconds, other files it comes in miliseconds\n",
    "# This converts the files in either form to seconds\n",
    "if('Total duration (ms)' in list(data)):\n",
    "    data.rename(columns={'Total duration (ms)': 'Duration'},inplace=True)\n",
    "    data['Duration']=data['Duration']//1000\n",
    "else:\n",
    "    data['Duration']=data['Duration'].apply(TimetoSec)\n",
    "\n",
    "# Throw away incomplete data\n",
    "data = data.dropna(subset=['Duration','Start date','Start station','End station','Member Type'])    \n",
    "\n",
    "# Convert to datetime object (Depending on the file this has different inputs)\n",
    "#data['Start date']=data['Start date'].apply(lambda x:datetime.datetime.strptime(x,'%Y-%m-%d %H:%M'))\n",
    "data['Start date']=data['Start date'].apply(lambda x:datetime.datetime.strptime(x,'%m/%d/%Y %H:%M'))\n",
    "\n",
    "# Strip off the Station Location\n",
    "data['Start station']=data['Start station'].apply(StripAddress)\n",
    "data['End station']=data['End station'].apply(StripAddress)\n",
    "\n",
    "# 1 For Registered, 0 For Casual\n",
    "data['Member Type']=data['Member Type'].apply(lambda x: int((x=='Registered'))) \n",
    "\n",
    "# 1 if a Federal holiday\n",
    "data['Holiday']=data['Start date'].apply(lambda x: int(datetime.datetime.date(x) in DCHolidays))\n",
    "\n",
    "# 1 if it's a Business Day\n",
    "data['Business Day']=data['Start date'].apply(lambda x: isBusinessDay(datetime.datetime.date(x)))\n",
    "\n",
    "# Drop Bike# and End Date\n",
    "data.drop('Bike#',axis=1,inplace=True)\n",
    "data.drop('End date',axis=1,inplace=True)\n",
    "\n",
    "# Drop Station Numbers if they are in the data file\n",
    "if('Start station number' in list(data)):\n",
    "    data.drop('Start station number',axis=1,inplace=True)\n",
    "if('End station number' in list(data)):\n",
    "    data.drop('End station number',axis=1,inplace=True)\n",
    "\n",
    "# Start Time\n",
    "data['Start time']=data['Start date'].apply(lambda x: x.hour*60+x.minute)\n",
    "\n",
    "# This line removes a chain warning that will pop up by using the following lines of code\n",
    "# pd.options.mode.chained_assignment = None\n",
    "\n",
    "# This is 1 if the bike starts and ends at the same location 0 otherwise\n",
    "data['Same Location']=0\n",
    "data['Same Location'][data['Start station']==data['End station']]=1\n",
    "\n",
    "# Fix bad Station Names\n",
    "data['Start station']=data['Start station'].apply(FixStation)\n",
    "data['End station']=data['End station'].apply(FixStation)"
   ]
  },
  {
   "cell_type": "code",
   "execution_count": null,
   "metadata": {
    "collapsed": true
   },
   "outputs": [],
   "source": [
    "# This finds the tuples for looking at the distance array matrix for each row\n",
    "# This code can take around 5-10 minutes per dataset\n",
    "distanceindices=list(zip(list(data['Start station'].transform(findIndex)),\n",
    "    list(data['End station'].transform(findIndex))))\n"
   ]
  },
  {
   "cell_type": "code",
   "execution_count": null,
   "metadata": {
    "collapsed": true
   },
   "outputs": [],
   "source": [
    "# Put in the Time to Destination from the distance array\n",
    "data['TimetoDest']=list(map(lambda x: distancearray[x],distanceindices))\n",
    "\n",
    "# The locations of these two stations are unknown so we just put the time to destination as 0\n",
    "for r in data.index[data['Start station']=='Alta Bicycle Share Demonstration Station'].tolist():\n",
    "    data['TimetoDest'][r]=0\n",
    "for r in data.index[data['End station']=='Alta Bicycle Share Demonstration Station'].tolist():\n",
    "    data['TimetoDest'][r]=0\n",
    "for r in data.index[data['Start station']=='Birthday Station'].tolist():\n",
    "    data['TimetoDest'][r]=0\n",
    "for r in data.index[data['End station']=='Birthday Station'].tolist():\n",
    "    data['TimetoDest'][r]=0\n",
    "        "
   ]
  },
  {
   "cell_type": "code",
   "execution_count": null,
   "metadata": {
    "collapsed": true
   },
   "outputs": [],
   "source": [
    "# Reorder the data frame columns\n",
    "data=data[['Start date', 'Start station', 'End station','Holiday', 'Business Day', 'Start time', \n",
    "      'Same Location','Duration','TimetoDest','Member Type']]"
   ]
  },
  {
   "cell_type": "code",
   "execution_count": null,
   "metadata": {
    "collapsed": true
   },
   "outputs": [],
   "source": [
    "# Write the information to a file\n",
    "data.to_csv(\"DataCleaned164.csv\",index=False)"
   ]
  }
 ],
 "metadata": {
  "anaconda-cloud": {},
  "kernelspec": {
   "display_name": "Python 3",
   "language": "python",
   "name": "python3"
  },
  "language_info": {
   "codemirror_mode": {
    "name": "ipython",
    "version": 3
   },
   "file_extension": ".py",
   "mimetype": "text/x-python",
   "name": "python",
   "nbconvert_exporter": "python",
   "pygments_lexer": "ipython3",
   "version": "3.6.2"
  }
 },
 "nbformat": 4,
 "nbformat_minor": 1
}
